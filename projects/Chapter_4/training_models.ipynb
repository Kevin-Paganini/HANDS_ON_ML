{
 "cells": [
  {
   "cell_type": "markdown",
   "metadata": {},
   "source": [
    "# Chapter 4 of the Machine Learning Journey"
   ]
  },
  {
   "cell_type": "code",
   "execution_count": 2,
   "metadata": {},
   "outputs": [],
   "source": [
    "import pandas as pd  \n",
    "import numpy as np  \n",
    "import matplotlib.pyplot as plt  \n",
    "import sklearn  \n",
    " "
   ]
  },
  {
   "cell_type": "code",
   "execution_count": 3,
   "metadata": {},
   "outputs": [],
   "source": [
    "# Making some fake data to play around\n",
    "\n",
    "X = 2 * np.random.rand(100, 1)\n",
    "y = 4 + 3* X + np.random.randn(100, 1)"
   ]
  },
  {
   "cell_type": "code",
   "execution_count": 4,
   "metadata": {},
   "outputs": [
    {
     "data": {
      "text/plain": [
       "Text(0, 0.5, 'Y1')"
      ]
     },
     "execution_count": 4,
     "metadata": {},
     "output_type": "execute_result"
    },
    {
     "data": {
      "image/png": "[encoded data removed]",
      "text/plain": [
       "<Figure size 1080x720 with 1 Axes>"
      ]
     },
     "metadata": {
      "needs_background": "light"
     },
     "output_type": "display_data"
    }
   ],
   "source": [
    "fig, ax = plt.subplots(figsize=(15, 10))\n",
    "\n",
    "ax.scatter(x=X, y=y)\n",
    "ax.set_xlabel('X1')\n",
    "ax.set_ylabel('Y1')"
   ]
  },
  {
   "cell_type": "code",
   "execution_count": 5,
   "metadata": {},
   "outputs": [
    {
     "data": {
      "text/plain": [
       "array([[3.88341521],\n",
       "       [3.0567826 ]])"
      ]
     },
     "execution_count": 5,
     "metadata": {},
     "output_type": "execute_result"
    }
   ],
   "source": [
    "X_b = np.c_[np.ones((100,1)), X]\n",
    "theta_b = np.linalg.inv(X_b.T.dot(X_b)).dot(X_b.T).dot(y)\n",
    "theta_b"
   ]
  },
  {
   "cell_type": "markdown",
   "metadata": {},
   "source": [
    "### Comments\n",
    "\n",
    "We were hoping for 4 +3X, but we got 4.13 and 2.89 +/- a little for when this is rerun. Theta_b was calculated using the moral equation that finds the best value of theta  \n",
    "It is used to minimize a cost function to find the value of theta. "
   ]
  },
  {
   "cell_type": "code",
   "execution_count": 6,
   "metadata": {},
   "outputs": [
    {
     "data": {
      "text/plain": [
       "array([[3.88341521],\n",
       "       [9.99698042]])"
      ]
     },
     "execution_count": 6,
     "metadata": {},
     "output_type": "execute_result"
    }
   ],
   "source": [
    "X_new = np.array([[0], [2]])\n",
    "X_new_b = np.c_[np.ones((2, 1)), X_new]\n",
    "\n",
    "\n",
    "y_predict = X_new_b.dot(theta_b)\n",
    "y_predict"
   ]
  },
  {
   "cell_type": "code",
   "execution_count": 7,
   "metadata": {},
   "outputs": [
    {
     "data": {
      "text/plain": [
       "(0.0, 2.0, 0.0, 15.0)"
      ]
     },
     "execution_count": 7,
     "metadata": {},
     "output_type": "execute_result"
    },
    {
     "data": {
      "image/png": "[encoded data removed]",
      "text/plain": [
       "<Figure size 1080x720 with 1 Axes>"
      ]
     },
     "metadata": {
      "needs_background": "light"
     },
     "output_type": "display_data"
    }
   ],
   "source": [
    "fig, ax = plt.subplots(figsize=(15, 10))\n",
    "\n",
    "\n",
    "ax.plot(X_new, y_predict, \"r-\", label='predictor')\n",
    "ax.plot(X,y, \"b.\", label='data')\n",
    "\n",
    "plt.axis([0, 2, 0, 15])\n"
   ]
  },
  {
   "cell_type": "markdown",
   "metadata": {},
   "source": [
    "## Can do same thing with sklearn"
   ]
  },
  {
   "cell_type": "code",
   "execution_count": 8,
   "metadata": {},
   "outputs": [
    {
     "data": {
      "text/plain": [
       "(array([3.88341521]), array([[3.0567826]]))"
      ]
     },
     "execution_count": 8,
     "metadata": {},
     "output_type": "execute_result"
    }
   ],
   "source": [
    "from sklearn.linear_model import LinearRegression\n",
    "\n",
    "\n",
    "lin_reg = LinearRegression()\n",
    "lin_reg.fit(X, y)\n",
    "\n",
    "lin_reg.intercept_, lin_reg.coef_"
   ]
  },
  {
   "cell_type": "code",
   "execution_count": 9,
   "metadata": {},
   "outputs": [
    {
     "data": {
      "text/plain": [
       "array([[3.88341521],\n",
       "       [9.99698042]])"
      ]
     },
     "execution_count": 9,
     "metadata": {},
     "output_type": "execute_result"
    }
   ],
   "source": [
    "lin_reg.predict(X_new)"
   ]
  },
  {
   "cell_type": "markdown",
   "metadata": {},
   "source": [
    "# A standard gradient descent algo"
   ]
  },
  {
   "cell_type": "code",
   "execution_count": 10,
   "metadata": {},
   "outputs": [],
   "source": [
    "\n",
    "\n",
    "def gradient_descent(lr=0.1, n_iterations=1000, m=100, data=X_b, target=y):\n",
    "    shape = X_b.shape\n",
    "    print(shape)\n",
    "    theta = np.random.randn(2, 1)\n",
    "\n",
    "    for iter in range(n_iterations):\n",
    "        gradients = 2/m * X_b.T.dot(X_b.dot(theta) - target)\n",
    "        theta = theta - lr * gradients\n",
    "    return theta\n"
   ]
  },
  {
   "cell_type": "code",
   "execution_count": 11,
   "metadata": {},
   "outputs": [
    {
     "name": "stdout",
     "output_type": "stream",
     "text": [
      "(100, 2)\n"
     ]
    },
    {
     "data": {
      "text/plain": [
       "array([[3.88341521],\n",
       "       [3.0567826 ]])"
      ]
     },
     "execution_count": 11,
     "metadata": {},
     "output_type": "execute_result"
    }
   ],
   "source": [
    "gradient_descent()"
   ]
  },
  {
   "cell_type": "code",
   "execution_count": 12,
   "metadata": {},
   "outputs": [],
   "source": [
    "\n",
    "def learning_sched(t):\n",
    "    t0 = 5\n",
    "    t1 = 50\n",
    "    return t0 / (t+t1)\n",
    "\n",
    "def stochastic_gradient_descent(n_epochs=50, m=100, data=X_b, target=y):\n",
    "    \n",
    "    theta = np.random.randn(2, 1)\n",
    "    for epoch in range(n_epochs):\n",
    "        for i in range(m):\n",
    "            random_index = np.random.randint(m)\n",
    "            xi = data[random_index:random_index+1]\n",
    "            yi = target[random_index:random_index+1]\n",
    "            gradients = 2 * xi.T.dot(xi.dot(theta)-yi)\n",
    "            eta = learning_sched(epoch * m+1)\n",
    "            theta = theta - eta * gradients\n",
    "    return theta"
   ]
  },
  {
   "cell_type": "code",
   "execution_count": 13,
   "metadata": {},
   "outputs": [
    {
     "data": {
      "text/plain": [
       "array([[3.83143037],\n",
       "       [3.11074252]])"
      ]
     },
     "execution_count": 13,
     "metadata": {},
     "output_type": "execute_result"
    }
   ],
   "source": [
    "stochastic_gradient_descent()"
   ]
  },
  {
   "cell_type": "markdown",
   "metadata": {},
   "source": [
    "## Comments \n",
    "\n",
    "\n",
    "The normal equation can figure out optimal parameters to use, however its time complexity can be anywhere from n^2 to n^3. This is quite inefficient.  \n",
    "Gradient descent can be better and there are different types.  \n",
    "Batch Gradient Descent (Full basically) takes the entire training set calculates the partial derivative across all parameter values and calculates the cost function. \n",
    "One interesting thing is that some cost functions are harder to work with than others. The mean squared error one is a ocnvex function so it only has one global minimum, which means gradient descent will get there eventually.   \n",
    "\n",
    "Stochastic gradient descent calculates descent based on one instance of the training data rather than the whole dataset. Since it is randomly selected and one training sample cannot be representative of the entire dataset, it is more \"stochastic\"\n",
    "\n",
    "Mini-batch gradient descent is a sort of middle ground between the two instead of a full sample (batch) or one sample (stochastic) it uses a small random batch from the training set.  \n",
    "\n",
    "As one would assume, batch is most accurate, but trains the longest, stochastic trains the fastest, but is less accurate and mini-batch is a common middle ground between the two.   \n"
   ]
  },
  {
   "cell_type": "markdown",
   "metadata": {},
   "source": [
    "## Kinda wild, but true \n",
    "\n",
    "Suprisingly, you can fit a linear model to non linear data, all you have to do is square each feature and add it to the end of the feature vector you already have.  \n"
   ]
  },
  {
   "cell_type": "code",
   "execution_count": 14,
   "metadata": {},
   "outputs": [],
   "source": [
    "## Making quadratic function data   \n",
    "\n",
    "m = 100\n",
    "X = 6 * np.random.rand(m, 1) - 3  \n",
    "y = 0.5 * X**2 + X + 2 + np.random.randn(m, 1)"
   ]
  },
  {
   "cell_type": "code",
   "execution_count": 17,
   "metadata": {},
   "outputs": [
    {
     "name": "stdout",
     "output_type": "stream",
     "text": [
      "[-0.34646814]\n",
      "[-0.34646814  0.12004017]\n"
     ]
    }
   ],
   "source": [
    "from sklearn.preprocessing import PolynomialFeatures  \n",
    "\n",
    "poly_features = PolynomialFeatures(degree=2, include_bias=False)\n",
    "X_poly = poly_features.fit_transform(X)\n",
    "print(X[0])\n",
    "print(X_poly[0])"
   ]
  },
  {
   "cell_type": "code",
   "execution_count": 21,
   "metadata": {},
   "outputs": [
    {
     "name": "stdout",
     "output_type": "stream",
     "text": [
      "Predictions: [1.53248982], Actual: [0.88103657]\n"
     ]
    }
   ],
   "source": [
    "lin_reg = LinearRegression()\n",
    "lin_reg.fit(X_poly, y)\n",
    "predictions = lin_reg.predict(X_poly)\n",
    "print(f'Predictions: {predictions[1]}, Actual: {y[1]}')\n"
   ]
  },
  {
   "cell_type": "code",
   "execution_count": 26,
   "metadata": {},
   "outputs": [
    {
     "name": "stdout",
     "output_type": "stream",
     "text": [
      "Lin reg intercept: [1.93744372], lin reg coef: [[0.89983294 0.49740897]]\n"
     ]
    },
    {
     "data": {
      "image/png": "[encoded data removed]",
      "text/plain": [
       "<Figure size 432x288 with 1 Axes>"
      ]
     },
     "metadata": {
      "needs_background": "light"
     },
     "output_type": "display_data"
    }
   ],
   "source": [
    "import matplotlib.pyplot as plt  \n",
    "fig, ax = plt.subplots()\n",
    "\n",
    "ax.scatter(X, y)\n",
    "ax.scatter(X, predictions)\n",
    "print(f'Lin reg intercept: {lin_reg.intercept_}, lin reg coef: {lin_reg.coef_}')"
   ]
  },
  {
   "cell_type": "markdown",
   "metadata": {},
   "source": [
    "Predicted Function is: \n",
    "$$\n",
    "y = 0.49x^2 + 0.83x + 1.93\n",
    "\n",
    "$$\n",
    "\n",
    "Which is close to what it actually is:\n",
    "\n",
    "$$\n",
    "y = 0.5x^2 + 1x + 2 + Gaussian Noise\n",
    "$$\n"
   ]
  },
  {
   "cell_type": "markdown",
   "metadata": {},
   "source": [
    "## Bias Variance Tradeoff\n",
    "\n",
    "Bias happens when you do not give the model enough freedom. It underfits the data, because the model is to simple to understand the complexities. For example    \n",
    "if you are training a linear model to try and predict a polynomial function.\n",
    "\n",
    "Variance happens when you give the model to much freedom. The model will overfit the data, because the model has so much freedom it can fit itself to any instance of the data.    \n",
    "For example if you are training a quadratic model on linear data.\n",
    "\n",
    "Irreducible error is the noise in the data. You can lower this by lowering outliers and borken sensors etc.   \n",
    "\n",
    "When you increase the complexity of a model you will increase its Variance but lower its bias. Conversely, if you decrease model complexity, you increase bias and lower variance. \n"
   ]
  },
  {
   "cell_type": "markdown",
   "metadata": {},
   "source": [
    "## Comments \n",
    "\n",
    "Interstingly enough the cost function used during training usually differs from the performance measure. Cost functions should be easily derivatable, while performance measures should be   \n",
    "as close to the task needed to complete.\n",
    "\n",
    "When using any of these regularized models (Ridge, lasso and elastic net) it is importnast to thandardize the data (StandardScaler)"
   ]
  },
  {
   "cell_type": "markdown",
   "metadata": {},
   "source": [
    "## Ridge regression, Lasso regression and Elastic Net \n",
    "\n",
    "\n",
    "Ridge regression simply adds a regularization term to the cost function.    \n",
    "\n",
    "$$\n",
    "J(\\theta) = MSE(\\theta) + \\alpha *\\frac{1}{2} \\sum_{i=1}^{n} \\theta_i^2\n",
    "$$\n",
    "\n",
    "Increasing alpha leads to flatter prediction curves (less extreme and more reasonable). It basically automatically performs feature selection and sets higher degrees to zero\n",
    "\n",
    "Lasso regression (least absolute shrinkage and selection operator regression) also adds a regularization term to the cost function, but it uses the $$ l_1$$ norm    \n",
    "instead of half the square of the norm. \n",
    "\n",
    "$$\n",
    "J(\\theta) = MSE(\\theta) + \\alpha  \\sum_{i=1}^{n} |\\theta_i|\n",
    "$$\n",
    "\n",
    "\n",
    "ElasticNet is a mix between the both and the preffered method of linear regression. Basically all linear regression problems should be solved with a little     \n",
    "regularization. Elastic net is preffered over Lasso because Lasso may behave eratically when the numbers of features is greater than the number of training instances   \n",
    "or when several features are strongly correlated. Ridge is a good default, but if you suspect that only a few features are useful you should use ElasticNet.\n",
    "\n",
    "\n",
    "Early stopping is another way to train your model and easy to implement. Just save the best model. if <val_score> < <current_score>: save the model and score"
   ]
  },
  {
   "cell_type": "code",
   "execution_count": 1,
   "metadata": {},
   "outputs": [],
   "source": [
    "from sklearn.linear_model import Ridge, Lasso, ElasticNet \n",
    "\n",
    "lasso_reg = Lasso(alpha=0.1)\n",
    "ridge_reg = Ridge(alpha=0.1, solver='Cholesky')\n",
    "elastic_net = ElasticNet(alpha=0.1, l1_ratio=0.5)\n",
    "\n"
   ]
  },
  {
   "cell_type": "markdown",
   "metadata": {},
   "source": [
    "## Logistic Regression"
   ]
  },
  {
   "cell_type": "markdown",
   "metadata": {},
   "source": [
    "Logistic regression is just like a linear regression model where it takes a weighted sum, however after this it applies a sigmoid function.  \n",
    "It outputs a number between 0 and 1. Then rounds the number to a whole value 0 or 1 in some sort of chosen fashion. "
   ]
  }
 ],
 "metadata": {
  "kernelspec": {
   "display_name": "Python 3.9.13 64-bit (windows store)",
   "language": "python",
   "name": "python3"
  },
  "language_info": {
   "codemirror_mode": {
    "name": "ipython",
    "version": 3
   },
   "file_extension": ".py",
   "mimetype": "text/x-python",
   "name": "python",
   "nbconvert_exporter": "python",
   "pygments_lexer": "ipython3",
   "version": "3.9.13"
  },
  "orig_nbformat": 4,
  "vscode": {
   "interpreter": {
    "hash": "aa9627aaf720668c7c3fce3e0d39ab4d3bcba337c7411be57e0daadf3fd83e0d"
   }
  }
 },
 "nbformat": 4,
 "nbformat_minor": 2
}
